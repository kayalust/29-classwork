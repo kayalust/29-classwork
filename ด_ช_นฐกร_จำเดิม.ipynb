{
  "nbformat": 4,
  "nbformat_minor": 0,
  "metadata": {
    "colab": {
      "name": "ด.ช.นฐกร จำเดิม.ipynb",
      "provenance": [],
      "collapsed_sections": [],
      "toc_visible": true,
      "authorship_tag": "ABX9TyPYEnACx0TGiPgyOG7evsW1",
      "include_colab_link": true
    },
    "kernelspec": {
      "name": "python3",
      "display_name": "Python 3"
    }
  },
  "cells": [
    {
      "cell_type": "markdown",
      "metadata": {
        "id": "view-in-github",
        "colab_type": "text"
      },
      "source": [
        "<a href=\"https://colab.research.google.com/github/veltus5184/meine-schularbeit/blob/master/%E0%B8%94_%E0%B8%8A_%E0%B8%99%E0%B8%90%E0%B8%81%E0%B8%A3_%E0%B8%88%E0%B8%B3%E0%B9%80%E0%B8%94%E0%B8%B4%E0%B8%A1.ipynb\" target=\"_parent\"><img src=\"https://colab.research.google.com/assets/colab-badge.svg\" alt=\"Open In Colab\"/></a>"
      ]
    },
    {
      "cell_type": "code",
      "metadata": {
        "colab": {
          "base_uri": "https://localhost:8080/"
        },
        "id": "jZv7fxfCGMQ6",
        "outputId": "6db7492b-a1d5-466c-f1f5-01fa918c193e"
      },
      "source": [
        "print(\"Please input a number for the length.\")\r\n",
        "length =  int(input())\r\n",
        "print(\"Please input a number for the width\")\r\n",
        "width = int(input())\r\n",
        "print(\"The rectangles size is \" + str(length * width))"
      ],
      "execution_count": null,
      "outputs": [
        {
          "output_type": "stream",
          "text": [
            "Please input a number for the length.\n",
            "2\n",
            "Please input a number for the width\n",
            "3\n",
            "The rectangles size is 6\n"
          ],
          "name": "stdout"
        }
      ]
    },
    {
      "cell_type": "code",
      "metadata": {
        "colab": {
          "base_uri": "https://localhost:8080/"
        },
        "id": "0bXHynHzJsIR",
        "outputId": "65bce2cd-64b4-4120-fcfb-749f6e7ecad1"
      },
      "source": [
        "print(\"Coded by เด็กชายนฐกร จำเดิม\")\r\n",
        "print(\"คำนวณพื้นที่สามเหลี่ยม\")\r\n",
        "base = 10\r\n",
        "print(\"ความยาวฐาน =\", base)\r\n",
        "height = 20\r\n",
        "print(\"ความสูง =\", height)\r\n",
        "area = 1/2 * 10 * 20\r\n",
        "print(\"พื้นที่สามเหลี่ยม: \" + str(float(area)))"
      ],
      "execution_count": null,
      "outputs": [
        {
          "output_type": "stream",
          "text": [
            "Coded by เด็กชายนฐกร จำเดิม\n",
            "คำนวณพื้นที่สามเหลี่ยม\n",
            "ความยาวฐาน = 10\n",
            "ความสูง = 20\n",
            "พื้นที่สามเหลี่ยม: 100.0\n"
          ],
          "name": "stdout"
        }
      ]
    },
    {
      "cell_type": "code",
      "metadata": {
        "colab": {
          "base_uri": "https://localhost:8080/"
        },
        "id": "QyxwzVLBPGsX",
        "outputId": "00364916-bfc7-4562-8110-89fd19e4fe29"
      },
      "source": [
        "print(\"โปรแกรมหาทุกอย่างของวงกลม\")\r\n",
        "pi = 22/7\r\n",
        "radius = input() * 2\r\n",
        "area1 = float(pi) * int(radius)\r\n",
        "print(\"พื้นที่วงกลม = \" + str(float(area1)))\r\n",
        "print(\"Circle Line Length\")\r\n",
        "area2 = 2 * float(pi) * int(radius)\r\n",
        "print(\"ความยาวรอบวง = \" + str(area2))"
      ],
      "execution_count": null,
      "outputs": [
        {
          "output_type": "stream",
          "text": [
            "โปรแกรมหาทุกอย่างของวงกลม\n",
            "6\n",
            "พื้นที่วงกลม = 207.42857142857142\n",
            "Circle Line Length\n",
            "ความยาวรอบวง = 414.85714285714283\n"
          ],
          "name": "stdout"
        }
      ]
    },
    {
      "cell_type": "code",
      "metadata": {
        "colab": {
          "base_uri": "https://localhost:8080/"
        },
        "id": "ly324NCsKWVR",
        "outputId": "e0784881-af10-467a-b355-215ea0fe91d5"
      },
      "source": [
        "print(\"Coded by เด็กชายนฐกร จำเดิม\")\r\n",
        "print(\"Circle Calculation\")\r\n",
        "radius = 18/2\r\n",
        "pi = 22/7\r\n",
        "print(\"Radius: \" + str(radius))\r\n",
        "\r\n",
        "circleArea = 22/7 * radius ** 2\r\n",
        "print(\"พื้นที่วงกลม =\", circleArea)\r\n",
        "circleLength = 2 * 22/7 * radius\r\n",
        "print(\"เส้นรอบวง =\", circleLength)"
      ],
      "execution_count": null,
      "outputs": [
        {
          "output_type": "stream",
          "text": [
            "Coded by เด็กชายนฐกร จำเดิม\n",
            "Circle Calculation\n",
            "Radius: 9.0\n",
            "พื้นที่วงกลม = 254.57142857142856\n",
            "เส้นรอบวง = 56.57142857142857\n"
          ],
          "name": "stdout"
        }
      ]
    },
    {
      "cell_type": "code",
      "metadata": {
        "id": "rV3cWmHTNdbD",
        "colab": {
          "base_uri": "https://localhost:8080/"
        },
        "outputId": "18efe964-ac34-4ae1-e8c4-97376c743fb2"
      },
      "source": [
        "# เขียนโปรแกรมคำนวณค่าเฉลี่ย\r\n",
        "print(\"----------------------------------------------\")\r\n",
        "print(\" \")\r\n",
        "print(\"คำนวนค่าเฉลี่ยของนักเรียน\")\r\n",
        "print(\" \")\r\n",
        "# คะแนน\r\n",
        "subject_thai = 78\r\n",
        "subject_eng = 84\r\n",
        "subject_social = 64\r\n",
        "subject_science = 96\r\n",
        "subject_math = 100\r\n",
        "\r\n",
        "# ชื่อ\r\n",
        "name = \"Nathakorn\"\r\n",
        "surname = \"Jumderm\"\r\n",
        "print(\"----------------------------------------------\")\r\n",
        "print(\"จัดทำโดย\", name, surname)\r\n",
        "\r\n",
        "# สูตร\r\n",
        "avg = (subject_thai + subject_eng + subject_social + subject_science + subject_math)/5\r\n",
        "\r\n",
        "# Print\r\n",
        "print(\"----------------------------------------------\")\r\n",
        "print(\" \")\r\n",
        "print(name, surname, \"มีคะแนนทั้งหมด\", ' %.2f ' % avg, \"คะแนน\")\r\n",
        "print(name, surname, \"มีคะแนนทั้งหมด\", ' %.3f ' % avg, \"คะแนน\")\r\n",
        "print(\" \")\r\n",
        "print(\"----------------------------------------------\")"
      ],
      "execution_count": 10,
      "outputs": [
        {
          "output_type": "stream",
          "text": [
            "----------------------------------------------\n",
            " \n",
            "คำนวนค่าเฉลี่ยของนักเรียน\n",
            " \n",
            "----------------------------------------------\n",
            "จัดทำโดย Nathakorn Jumderm\n",
            "----------------------------------------------\n",
            " \n",
            "Nathakorn Jumderm มีคะแนนทั้งหมด  84.40  คะแนน\n",
            "Nathakorn Jumderm มีคะแนนทั้งหมด  84.400  คะแนน\n",
            " \n",
            "----------------------------------------------\n"
          ],
          "name": "stdout"
        }
      ]
    },
    {
      "cell_type": "code",
      "metadata": {
        "colab": {
          "base_uri": "https://localhost:8080/"
        },
        "id": "1dpyc2tuNyoT",
        "outputId": "3368c429-9185-4257-9587-d948849849ca"
      },
      "source": [
        "# Input functions\r\n",
        "\r\n",
        "name = input(\"ชื่อ: \")\r\n",
        "surname = input(\"นามสกุล: \")\r\n",
        "\r\n",
        "print(\"ควย\", name, surname)"
      ],
      "execution_count": 12,
      "outputs": [
        {
          "output_type": "stream",
          "text": [
            "ชื่อ: Nigga\n",
            "นามสกุล: Ass\n",
            "ควย Nigga Ass\n"
          ],
          "name": "stdout"
        }
      ]
    }
  ]
}