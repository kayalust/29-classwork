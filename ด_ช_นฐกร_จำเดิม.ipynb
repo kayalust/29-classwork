{
  "nbformat": 4,
  "nbformat_minor": 0,
  "metadata": {
    "colab": {
      "name": "ด.ช.นฐกร จำเดิม.ipynb",
      "provenance": [],
      "toc_visible": true,
      "authorship_tag": "ABX9TyPx6cCLOaf5PMe704UDDyfB",
      "include_colab_link": true
    },
    "kernelspec": {
      "name": "python3",
      "display_name": "Python 3"
    }
  },
  "cells": [
    {
      "cell_type": "markdown",
      "metadata": {
        "id": "view-in-github",
        "colab_type": "text"
      },
      "source": [
        "<a href=\"https://colab.research.google.com/github/veltus5184/knagn-school/blob/master/%E0%B8%94_%E0%B8%8A_%E0%B8%99%E0%B8%90%E0%B8%81%E0%B8%A3_%E0%B8%88%E0%B8%B3%E0%B9%80%E0%B8%94%E0%B8%B4%E0%B8%A1.ipynb\" target=\"_parent\"><img src=\"https://colab.research.google.com/assets/colab-badge.svg\" alt=\"Open In Colab\"/></a>"
      ]
    },
    {
      "cell_type": "code",
      "metadata": {
        "colab": {
          "base_uri": "https://localhost:8080/"
        },
        "id": "jZv7fxfCGMQ6",
        "outputId": "6db7492b-a1d5-466c-f1f5-01fa918c193e"
      },
      "source": [
        "print(\"Please input a number for the length.\")\r\n",
        "length =  int(input())\r\n",
        "print(\"Please input a number for the width\")\r\n",
        "width = int(input())\r\n",
        "print(\"The rectangles size is \" + str(length * width))"
      ],
      "execution_count": null,
      "outputs": [
        {
          "output_type": "stream",
          "text": [
            "Please input a number for the length.\n",
            "2\n",
            "Please input a number for the width\n",
            "3\n",
            "The rectangles size is 6\n"
          ],
          "name": "stdout"
        }
      ]
    },
    {
      "cell_type": "code",
      "metadata": {
        "colab": {
          "base_uri": "https://localhost:8080/"
        },
        "id": "0bXHynHzJsIR",
        "outputId": "b4ea2947-c148-457a-fb60-b8a5882be5c9"
      },
      "source": [
        "print(\"คำนวณพื้นที่สามเหลี่ยม\")\r\n",
        "print(\"Using 50 for base\")\r\n",
        "base = 50\r\n",
        "print(\"Using 30 for height\")\r\n",
        "height = 30\r\n",
        "area = 1/2 * 4 * 6\r\n",
        "print(\"Triangle Area: \" + str(float(area)))\r\n"
      ],
      "execution_count": null,
      "outputs": [
        {
          "output_type": "stream",
          "text": [
            "คำนวณพื้นที่สามเหลี่ยม\n",
            "Using 50 for base\n",
            "Using 30 for height\n",
            "Triangle Area: 12.0\n"
          ],
          "name": "stdout"
        }
      ]
    },
    {
      "cell_type": "code",
      "metadata": {
        "colab": {
          "base_uri": "https://localhost:8080/"
        },
        "id": "QyxwzVLBPGsX",
        "outputId": "00364916-bfc7-4562-8110-89fd19e4fe29"
      },
      "source": [
        "print(\"โปรแกรมหาทุกอย่างของวงกลม\")\r\n",
        "pi = 22/7\r\n",
        "radius = input() * 2\r\n",
        "area1 = float(pi) * int(radius)\r\n",
        "print(\"พื้นที่วงกลม = \" + str(float(area1)))\r\n",
        "print(\"Circle Line Length\")\r\n",
        "area2 = 2 * float(pi) * int(radius)\r\n",
        "print(\"ความยาวรอบวง = \" + str(area2))"
      ],
      "execution_count": null,
      "outputs": [
        {
          "output_type": "stream",
          "text": [
            "โปรแกรมหาทุกอย่างของวงกลม\n",
            "6\n",
            "พื้นที่วงกลม = 207.42857142857142\n",
            "Circle Line Length\n",
            "ความยาวรอบวง = 414.85714285714283\n"
          ],
          "name": "stdout"
        }
      ]
    },
    {
      "cell_type": "code",
      "metadata": {
        "id": "rV3cWmHTNdbD"
      },
      "source": [
        ""
      ],
      "execution_count": null,
      "outputs": []
    }
  ]
}